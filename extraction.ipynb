{
 "cells": [
  {
   "cell_type": "code",
   "execution_count": 10,
   "metadata": {},
   "outputs": [],
   "source": [
    "import os \n",
    "\n",
    "import seaborn as sns \n",
    "\n",
    "from tqdm import tqdm\n",
    "from langchain_cohere import ChatCohere\n",
    "from langchain_core.messages import HumanMessage\n",
    "from langchain_community.vectorstores import FAISS\n",
    "from unstructured.partition.pdf import partition_pdf\n",
    "from langchain_community.embeddings import HuggingFaceEmbeddings\n",
    "import time"
   ]
  },
  {
   "cell_type": "code",
   "execution_count": 2,
   "metadata": {},
   "outputs": [],
   "source": [
    "def extract_text(paths) : \n",
    "\n",
    "    texts = []\n",
    "\n",
    "    for path in tqdm(paths , total = len(paths)) : \n",
    "\n",
    "        raw_pdf_elements = partition_pdf(\n",
    "            filename = path ,\n",
    "            extract_images_in_pdf = True , \n",
    "            infer_table_structure = True , \n",
    "            chunking_strategy = 'by_title' ,\n",
    "            max_characters = 4000 , \n",
    "            new_after_n_chars = 3800 , \n",
    "            combine_text_under_n_chars = 2000 , \n",
    "            extract_image_block_output_dir = 'out' , \n",
    "        )\n",
    "\n",
    "        texts.extend([\n",
    "            ele.text\n",
    "            for ele \n",
    "            in raw_pdf_elements\n",
    "        ])\n",
    "        \n",
    "    return texts"
   ]
  },
  {
   "cell_type": "code",
   "execution_count": 3,
   "metadata": {},
   "outputs": [],
   "source": [
    "def norm(lis) : \n",
    "\n",
    "    lis = [\n",
    "        (val - min(lis)) / (max(lis) - min(lis))\n",
    "        for val \n",
    "        in lis\n",
    "    ]\n",
    "\n",
    "    return lis"
   ]
  },
  {
   "cell_type": "code",
   "execution_count": 4,
   "metadata": {},
   "outputs": [],
   "source": [
    "paths = os.listdir('PDFs')\n",
    "paths = [\n",
    "    f'PDFs/{pdf}'\n",
    "    for pdf \n",
    "    in paths\n",
    "]"
   ]
  },
  {
   "cell_type": "code",
   "execution_count": null,
   "metadata": {},
   "outputs": [],
   "source": [
    "unstructured_texts = extract_text(paths)"
   ]
  },
  {
   "cell_type": "code",
   "execution_count": 6,
   "metadata": {},
   "outputs": [],
   "source": [
    "normal_text = ' '.join(unstructured_texts)\n",
    "normal_text = [\n",
    "    normal_text[index : index + 512]\n",
    "    for index \n",
    "    in range(0 , len(normal_text) , 512)\n",
    "]"
   ]
  },
  {
   "cell_type": "code",
   "execution_count": 11,
   "metadata": {},
   "outputs": [],
   "source": [
    "llm = ChatCohere(cohere_api_key = 'FELFXgLGfcqsy4eh4Q75dXNT7VyIQjKZmhkiIug3')"
   ]
  },
  {
   "cell_type": "code",
   "execution_count": 13,
   "metadata": {},
   "outputs": [],
   "source": [
    "def get_answer(text , sleep) : \n",
    "\n",
    "    content = llm.invoke([\n",
    "        HumanMessage(content = text)\n",
    "    ]).content\n",
    "\n",
    "    time.sleep(sleep)\n",
    "\n",
    "    return content"
   ]
  },
  {
   "cell_type": "code",
   "execution_count": 27,
   "metadata": {},
   "outputs": [],
   "source": [
    "context_testing_prompt = open('Assets/Prompts/Context_Testing.txt').read()\n",
    "question_asking_prompt = open('Assets/Prompts/Question_Asking.txt').read()\n",
    "question_checking_prompt = open('Assets/Prompts/Question_Checking.txt').read()"
   ]
  },
  {
   "cell_type": "code",
   "execution_count": null,
   "metadata": {},
   "outputs": [],
   "source": [
    "uncstructured_context_scores = [\n",
    "    float(\n",
    "        get_answer(\n",
    "            context_testing_prompt.format(text) , \n",
    "            sleep = 2\n",
    "        )\n",
    "    ) # 40 API Calls per Minute\n",
    "    for text\n",
    "    in tqdm(unstructured_texts , total = len(unstructured_texts))\n",
    "]\n",
    "\n",
    "normal_text_context_scores = [\n",
    "    float(\n",
    "        get_answer(\n",
    "            context_testing_prompt.format(text) , \n",
    "            sleep = 2\n",
    "        )\n",
    "    ) # 40 API Calls per Minute\n",
    "    for text\n",
    "    in tqdm(normal_text , total = len(normal_text))\n",
    "]"
   ]
  },
  {
   "cell_type": "code",
   "execution_count": null,
   "metadata": {},
   "outputs": [],
   "source": [
    "unstructured_questions = [\n",
    "    get_answer(\n",
    "        question_asking_prompt.format(ele) , \n",
    "        sleep = 2\n",
    "    )\n",
    "    for ele \n",
    "    in tqdm(unstructured_texts , total = len(unstructured_texts))\n",
    "]\n",
    "\n",
    "normal_questions = [\n",
    "    get_answer(\n",
    "        question_asking_prompt.format(ele) , \n",
    "        sleep = 2\n",
    "    )\n",
    "    for ele \n",
    "    in tqdm(normal_text , total = len(normal_text))\n",
    "]"
   ]
  },
  {
   "cell_type": "code",
   "execution_count": null,
   "metadata": {},
   "outputs": [],
   "source": [
    "unstructured_question_scores = [\n",
    "    float(\n",
    "        get_answer(\n",
    "            question_checking_prompt.format(text , question) , \n",
    "            sleep = 2\n",
    "        )\n",
    "    )\n",
    "    for text , question\n",
    "    in tqdm(zip(unstructured_texts , unstructured_questions) , total = len(unstructured_texts))\n",
    "]\n",
    "\n",
    "normal_question_scores = [\n",
    "    float(\n",
    "        get_answer(\n",
    "            question_checking_prompt.format(text , question) , \n",
    "            sleep = 2\n",
    "        )\n",
    "    )\n",
    "    for text , question\n",
    "    in tqdm(zip(normal_text , normal_questions) , total = len(normal_text))\n",
    "]"
   ]
  },
  {
   "cell_type": "code",
   "execution_count": null,
   "metadata": {},
   "outputs": [],
   "source": [
    "sns.lineplot(norm(uncstructured_context_scores))\n",
    "sns.lineplot(norm(unstructured_question_scores))"
   ]
  },
  {
   "cell_type": "code",
   "execution_count": null,
   "metadata": {},
   "outputs": [],
   "source": [
    "sns.lineplot(norm(normal_text_context_scores))\n",
    "sns.lineplot(norm(normal_question_scores))"
   ]
  },
  {
   "cell_type": "code",
   "execution_count": 9,
   "metadata": {},
   "outputs": [],
   "source": [
    "embeddings = HuggingFaceEmbeddings(model_name=\"all-MiniLM-L6-v2\")"
   ]
  },
  {
   "cell_type": "code",
   "execution_count": 13,
   "metadata": {},
   "outputs": [],
   "source": [
    "unstructured_vectorstore = FAISS.from_texts(unstructured_texts , embedding = embeddings)\n",
    "normal_vectorstore = FAISS.from_texts(normal_text , embedding = embeddings)"
   ]
  },
  {
   "cell_type": "code",
   "execution_count": 14,
   "metadata": {},
   "outputs": [],
   "source": [
    "unstructured_vectorstore.save_local('unstructured_vc')\n",
    "normal_vectorstore.save_local('normal_vc')"
   ]
  },
  {
   "cell_type": "code",
   "execution_count": 6,
   "metadata": {},
   "outputs": [
    {
     "ename": "AttributeError",
     "evalue": "module 'pdf2image' has no attribute '__version__'",
     "output_type": "error",
     "traceback": [
      "\u001b[0;31m---------------------------------------------------------------------------\u001b[0m",
      "\u001b[0;31mAttributeError\u001b[0m                            Traceback (most recent call last)",
      "Cell \u001b[0;32mIn[6], line 3\u001b[0m\n\u001b[1;32m      1\u001b[0m \u001b[38;5;28;01mimport\u001b[39;00m \u001b[38;5;21;01mpdf2image\u001b[39;00m\n\u001b[0;32m----> 3\u001b[0m \u001b[43mpdf2image\u001b[49m\u001b[38;5;241;43m.\u001b[39;49m\u001b[43m__version__\u001b[49m\n",
      "\u001b[0;31mAttributeError\u001b[0m: module 'pdf2image' has no attribute '__version__'"
     ]
    }
   ],
   "source": []
  },
  {
   "cell_type": "code",
   "execution_count": 7,
   "metadata": {},
   "outputs": [
    {
     "name": "stdout",
     "output_type": "stream",
     "text": [
      "Version-controlled requirements written to version_controlled_requirements.txt\n"
     ]
    }
   ],
   "source": []
  },
  {
   "cell_type": "code",
   "execution_count": null,
   "metadata": {},
   "outputs": [],
   "source": []
  }
 ],
 "metadata": {
  "kernelspec": {
   "display_name": "Python 3",
   "language": "python",
   "name": "python3"
  },
  "language_info": {
   "codemirror_mode": {
    "name": "ipython",
    "version": 3
   },
   "file_extension": ".py",
   "mimetype": "text/x-python",
   "name": "python",
   "nbconvert_exporter": "python",
   "pygments_lexer": "ipython3",
   "version": "3.10.13"
  }
 },
 "nbformat": 4,
 "nbformat_minor": 2
}
